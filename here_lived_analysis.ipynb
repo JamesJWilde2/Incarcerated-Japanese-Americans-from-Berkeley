{
 "cells": [
  {
   "cell_type": "markdown",
   "id": "5350bcd3",
   "metadata": {},
   "source": [
    "# Cleaning and analyzing Berkeley \"Here Lived\" Japanese internment data"
   ]
  },
  {
   "cell_type": "markdown",
   "id": "653350ce",
   "metadata": {},
   "source": [
    "### First, cleaning!"
   ]
  },
  {
   "cell_type": "code",
   "execution_count": 1,
   "id": "c8d7a376",
   "metadata": {},
   "outputs": [],
   "source": [
    "import pandas as pd\n",
    "import re\n",
    "import numpy as np\n",
    "import matplotlib.pyplot as plt"
   ]
  },
  {
   "cell_type": "code",
   "execution_count": 2,
   "id": "1dbe0771",
   "metadata": {},
   "outputs": [],
   "source": [
    "# For this analysis, we can convert some values into null\n",
    "df = pd.read_csv(\"here_lived_berkeley_2024-09-29.csv\", \n",
    "    na_values=[\"0000 unknown address\", \"unknown\"])\n"
   ]
  },
  {
   "cell_type": "code",
   "execution_count": 3,
   "id": "e1356f47",
   "metadata": {},
   "outputs": [
    {
     "data": {
      "text/html": [
       "<div>\n",
       "<style scoped>\n",
       "    .dataframe tbody tr th:only-of-type {\n",
       "        vertical-align: middle;\n",
       "    }\n",
       "\n",
       "    .dataframe tbody tr th {\n",
       "        vertical-align: top;\n",
       "    }\n",
       "\n",
       "    .dataframe thead th {\n",
       "        text-align: right;\n",
       "    }\n",
       "</style>\n",
       "<table border=\"1\" class=\"dataframe\">\n",
       "  <thead>\n",
       "    <tr style=\"text-align: right;\">\n",
       "      <th></th>\n",
       "      <th>Last</th>\n",
       "      <th>First</th>\n",
       "      <th>Middle</th>\n",
       "      <th>Full Name</th>\n",
       "      <th>Address</th>\n",
       "      <th>Born</th>\n",
       "      <th>Imprisoned</th>\n",
       "      <th>Assembly Center and Camp</th>\n",
       "      <th>Release Date</th>\n",
       "      <th>Release Destination</th>\n",
       "      <th>Occupation</th>\n",
       "      <th>Notes</th>\n",
       "    </tr>\n",
       "  </thead>\n",
       "  <tbody>\n",
       "    <tr>\n",
       "      <th>0</th>\n",
       "      <td>(Akiyoshi)</td>\n",
       "      <td>Roy</td>\n",
       "      <td>Jitsuzo</td>\n",
       "      <td>Roy Jitsuzo (Akiyoshi)</td>\n",
       "      <td>1610 Julia</td>\n",
       "      <td>1886, Japan</td>\n",
       "      <td>April 1942</td>\n",
       "      <td>Tanforan, Topaz</td>\n",
       "      <td>October 19, 1945</td>\n",
       "      <td>Oakland</td>\n",
       "      <td>Gardener</td>\n",
       "      <td>NaN</td>\n",
       "    </tr>\n",
       "    <tr>\n",
       "      <th>1</th>\n",
       "      <td>(Akiyoshi)</td>\n",
       "      <td>Miwa</td>\n",
       "      <td>Jitsuzo</td>\n",
       "      <td>Miwa Jitsuzo (Akiyoshi)</td>\n",
       "      <td>1610 Julia</td>\n",
       "      <td>1901, Japan</td>\n",
       "      <td>April 1942</td>\n",
       "      <td>Tanforan, Topaz</td>\n",
       "      <td>October 19, 1945</td>\n",
       "      <td>Oakland</td>\n",
       "      <td>Maid</td>\n",
       "      <td>NaN</td>\n",
       "    </tr>\n",
       "    <tr>\n",
       "      <th>2</th>\n",
       "      <td>(Akiyoshi)</td>\n",
       "      <td>Minoru</td>\n",
       "      <td>Jitsuzo</td>\n",
       "      <td>Minoru Jitsuzo (Akiyoshi)</td>\n",
       "      <td>1610 Julia</td>\n",
       "      <td>1925, California</td>\n",
       "      <td>April 1942</td>\n",
       "      <td>Tanforan, Topaz</td>\n",
       "      <td>July 5, 1945</td>\n",
       "      <td>New York City</td>\n",
       "      <td>NaN</td>\n",
       "      <td>NaN</td>\n",
       "    </tr>\n",
       "    <tr>\n",
       "      <th>3</th>\n",
       "      <td>(Akiyoshi)</td>\n",
       "      <td>Shizuye</td>\n",
       "      <td>Jitsuzo</td>\n",
       "      <td>Shizuye Jitsuzo (Akiyoshi)</td>\n",
       "      <td>1610 Julia</td>\n",
       "      <td>1923, California</td>\n",
       "      <td>April 1942</td>\n",
       "      <td>Tanforan, Topaz</td>\n",
       "      <td>August 6, 1945</td>\n",
       "      <td>Chicago, Illinois</td>\n",
       "      <td>NaN</td>\n",
       "      <td>NaN</td>\n",
       "    </tr>\n",
       "    <tr>\n",
       "      <th>4</th>\n",
       "      <td>(Suzuki)</td>\n",
       "      <td>Fumiko</td>\n",
       "      <td>Hamada</td>\n",
       "      <td>Fumiko Hamada (Suzuki)</td>\n",
       "      <td>2115 Parker</td>\n",
       "      <td>1923, Mexico</td>\n",
       "      <td>April 1942</td>\n",
       "      <td>Tanforan, Topaz</td>\n",
       "      <td>August 14, 1944</td>\n",
       "      <td>Milwaukee</td>\n",
       "      <td>NaN</td>\n",
       "      <td>NaN</td>\n",
       "    </tr>\n",
       "  </tbody>\n",
       "</table>\n",
       "</div>"
      ],
      "text/plain": [
       "         Last    First   Middle                   Full Name      Address  \\\n",
       "0  (Akiyoshi)      Roy  Jitsuzo      Roy Jitsuzo (Akiyoshi)   1610 Julia   \n",
       "1  (Akiyoshi)     Miwa  Jitsuzo     Miwa Jitsuzo (Akiyoshi)   1610 Julia   \n",
       "2  (Akiyoshi)   Minoru  Jitsuzo   Minoru Jitsuzo (Akiyoshi)   1610 Julia   \n",
       "3  (Akiyoshi)  Shizuye  Jitsuzo  Shizuye Jitsuzo (Akiyoshi)   1610 Julia   \n",
       "4    (Suzuki)   Fumiko   Hamada      Fumiko Hamada (Suzuki)  2115 Parker   \n",
       "\n",
       "               Born  Imprisoned Assembly Center and Camp      Release Date  \\\n",
       "0       1886, Japan  April 1942          Tanforan, Topaz  October 19, 1945   \n",
       "1       1901, Japan  April 1942          Tanforan, Topaz  October 19, 1945   \n",
       "2  1925, California  April 1942          Tanforan, Topaz      July 5, 1945   \n",
       "3  1923, California  April 1942          Tanforan, Topaz    August 6, 1945   \n",
       "4      1923, Mexico  April 1942          Tanforan, Topaz   August 14, 1944   \n",
       "\n",
       "  Release Destination Occupation Notes  \n",
       "0             Oakland   Gardener   NaN  \n",
       "1             Oakland       Maid   NaN  \n",
       "2       New York City        NaN   NaN  \n",
       "3   Chicago, Illinois        NaN   NaN  \n",
       "4           Milwaukee        NaN   NaN  "
      ]
     },
     "execution_count": 3,
     "metadata": {},
     "output_type": "execute_result"
    }
   ],
   "source": [
    "df.head()"
   ]
  },
  {
   "cell_type": "code",
   "execution_count": 4,
   "id": "e0690e3a",
   "metadata": {},
   "outputs": [
    {
     "data": {
      "text/plain": [
       "(1151, 12)"
      ]
     },
     "execution_count": 4,
     "metadata": {},
     "output_type": "execute_result"
    }
   ],
   "source": [
    "df.shape"
   ]
  },
  {
   "cell_type": "code",
   "execution_count": 5,
   "id": "92cbf446",
   "metadata": {},
   "outputs": [
    {
     "data": {
      "text/plain": [
       "Last                        object\n",
       "First                       object\n",
       "Middle                      object\n",
       "Full Name                   object\n",
       "Address                     object\n",
       "Born                        object\n",
       "Imprisoned                  object\n",
       "Assembly Center and Camp    object\n",
       "Release Date                object\n",
       "Release Destination         object\n",
       "Occupation                  object\n",
       "Notes                       object\n",
       "dtype: object"
      ]
     },
     "execution_count": 5,
     "metadata": {},
     "output_type": "execute_result"
    }
   ],
   "source": [
    "df.dtypes"
   ]
  },
  {
   "cell_type": "markdown",
   "id": "6e7f0534",
   "metadata": {},
   "source": [
    "Ok, first, the address column doesn't include city or states. It just has the street address. To be able to map these data points, I want to add \"Berkeley, CA\" to each address string."
   ]
  },
  {
   "cell_type": "code",
   "execution_count": 6,
   "id": "7c544457",
   "metadata": {},
   "outputs": [],
   "source": [
    "df['Address'] = df['Address'].astype(str) + ', Berkeley, CA'"
   ]
  },
  {
   "cell_type": "code",
   "execution_count": 7,
   "id": "16c362c4",
   "metadata": {},
   "outputs": [
    {
     "data": {
      "text/html": [
       "<div>\n",
       "<style scoped>\n",
       "    .dataframe tbody tr th:only-of-type {\n",
       "        vertical-align: middle;\n",
       "    }\n",
       "\n",
       "    .dataframe tbody tr th {\n",
       "        vertical-align: top;\n",
       "    }\n",
       "\n",
       "    .dataframe thead th {\n",
       "        text-align: right;\n",
       "    }\n",
       "</style>\n",
       "<table border=\"1\" class=\"dataframe\">\n",
       "  <thead>\n",
       "    <tr style=\"text-align: right;\">\n",
       "      <th></th>\n",
       "      <th>Last</th>\n",
       "      <th>First</th>\n",
       "      <th>Middle</th>\n",
       "      <th>Full Name</th>\n",
       "      <th>Address</th>\n",
       "      <th>Born</th>\n",
       "      <th>Imprisoned</th>\n",
       "      <th>Assembly Center and Camp</th>\n",
       "      <th>Release Date</th>\n",
       "      <th>Release Destination</th>\n",
       "      <th>Occupation</th>\n",
       "      <th>Notes</th>\n",
       "    </tr>\n",
       "  </thead>\n",
       "  <tbody>\n",
       "    <tr>\n",
       "      <th>0</th>\n",
       "      <td>(Akiyoshi)</td>\n",
       "      <td>Roy</td>\n",
       "      <td>Jitsuzo</td>\n",
       "      <td>Roy Jitsuzo (Akiyoshi)</td>\n",
       "      <td>1610 Julia, Berkeley, CA</td>\n",
       "      <td>1886, Japan</td>\n",
       "      <td>April 1942</td>\n",
       "      <td>Tanforan, Topaz</td>\n",
       "      <td>October 19, 1945</td>\n",
       "      <td>Oakland</td>\n",
       "      <td>Gardener</td>\n",
       "      <td>NaN</td>\n",
       "    </tr>\n",
       "    <tr>\n",
       "      <th>1</th>\n",
       "      <td>(Akiyoshi)</td>\n",
       "      <td>Miwa</td>\n",
       "      <td>Jitsuzo</td>\n",
       "      <td>Miwa Jitsuzo (Akiyoshi)</td>\n",
       "      <td>1610 Julia, Berkeley, CA</td>\n",
       "      <td>1901, Japan</td>\n",
       "      <td>April 1942</td>\n",
       "      <td>Tanforan, Topaz</td>\n",
       "      <td>October 19, 1945</td>\n",
       "      <td>Oakland</td>\n",
       "      <td>Maid</td>\n",
       "      <td>NaN</td>\n",
       "    </tr>\n",
       "    <tr>\n",
       "      <th>2</th>\n",
       "      <td>(Akiyoshi)</td>\n",
       "      <td>Minoru</td>\n",
       "      <td>Jitsuzo</td>\n",
       "      <td>Minoru Jitsuzo (Akiyoshi)</td>\n",
       "      <td>1610 Julia, Berkeley, CA</td>\n",
       "      <td>1925, California</td>\n",
       "      <td>April 1942</td>\n",
       "      <td>Tanforan, Topaz</td>\n",
       "      <td>July 5, 1945</td>\n",
       "      <td>New York City</td>\n",
       "      <td>NaN</td>\n",
       "      <td>NaN</td>\n",
       "    </tr>\n",
       "    <tr>\n",
       "      <th>3</th>\n",
       "      <td>(Akiyoshi)</td>\n",
       "      <td>Shizuye</td>\n",
       "      <td>Jitsuzo</td>\n",
       "      <td>Shizuye Jitsuzo (Akiyoshi)</td>\n",
       "      <td>1610 Julia, Berkeley, CA</td>\n",
       "      <td>1923, California</td>\n",
       "      <td>April 1942</td>\n",
       "      <td>Tanforan, Topaz</td>\n",
       "      <td>August 6, 1945</td>\n",
       "      <td>Chicago, Illinois</td>\n",
       "      <td>NaN</td>\n",
       "      <td>NaN</td>\n",
       "    </tr>\n",
       "    <tr>\n",
       "      <th>4</th>\n",
       "      <td>(Suzuki)</td>\n",
       "      <td>Fumiko</td>\n",
       "      <td>Hamada</td>\n",
       "      <td>Fumiko Hamada (Suzuki)</td>\n",
       "      <td>2115 Parker, Berkeley, CA</td>\n",
       "      <td>1923, Mexico</td>\n",
       "      <td>April 1942</td>\n",
       "      <td>Tanforan, Topaz</td>\n",
       "      <td>August 14, 1944</td>\n",
       "      <td>Milwaukee</td>\n",
       "      <td>NaN</td>\n",
       "      <td>NaN</td>\n",
       "    </tr>\n",
       "  </tbody>\n",
       "</table>\n",
       "</div>"
      ],
      "text/plain": [
       "         Last    First   Middle                   Full Name  \\\n",
       "0  (Akiyoshi)      Roy  Jitsuzo      Roy Jitsuzo (Akiyoshi)   \n",
       "1  (Akiyoshi)     Miwa  Jitsuzo     Miwa Jitsuzo (Akiyoshi)   \n",
       "2  (Akiyoshi)   Minoru  Jitsuzo   Minoru Jitsuzo (Akiyoshi)   \n",
       "3  (Akiyoshi)  Shizuye  Jitsuzo  Shizuye Jitsuzo (Akiyoshi)   \n",
       "4    (Suzuki)   Fumiko   Hamada      Fumiko Hamada (Suzuki)   \n",
       "\n",
       "                     Address              Born  Imprisoned  \\\n",
       "0   1610 Julia, Berkeley, CA       1886, Japan  April 1942   \n",
       "1   1610 Julia, Berkeley, CA       1901, Japan  April 1942   \n",
       "2   1610 Julia, Berkeley, CA  1925, California  April 1942   \n",
       "3   1610 Julia, Berkeley, CA  1923, California  April 1942   \n",
       "4  2115 Parker, Berkeley, CA      1923, Mexico  April 1942   \n",
       "\n",
       "  Assembly Center and Camp      Release Date Release Destination Occupation  \\\n",
       "0          Tanforan, Topaz  October 19, 1945             Oakland   Gardener   \n",
       "1          Tanforan, Topaz  October 19, 1945             Oakland       Maid   \n",
       "2          Tanforan, Topaz      July 5, 1945       New York City        NaN   \n",
       "3          Tanforan, Topaz    August 6, 1945   Chicago, Illinois        NaN   \n",
       "4          Tanforan, Topaz   August 14, 1944           Milwaukee        NaN   \n",
       "\n",
       "  Notes  \n",
       "0   NaN  \n",
       "1   NaN  \n",
       "2   NaN  \n",
       "3   NaN  \n",
       "4   NaN  "
      ]
     },
     "execution_count": 7,
     "metadata": {},
     "output_type": "execute_result"
    }
   ],
   "source": [
    "df.head()"
   ]
  },
  {
   "cell_type": "markdown",
   "id": "eba93c6b",
   "metadata": {},
   "source": [
    "This would have changed null values to be just ', Berkeley, CA', which I don't want. So I will set those to be null again."
   ]
  },
  {
   "cell_type": "code",
   "execution_count": 8,
   "id": "df3f62d2",
   "metadata": {},
   "outputs": [],
   "source": [
    "df['Address'] = df['Address'].replace('nan, Berkeley, CA', np.nan)"
   ]
  },
  {
   "cell_type": "code",
   "execution_count": 9,
   "id": "07a8dfc7",
   "metadata": {},
   "outputs": [
    {
     "data": {
      "text/plain": [
       "Address\n",
       "2076 Ashby, Berkeley, CA                         21\n",
       "2928 Grove, Berkeley, CA                         14\n",
       "2809 California, Berkeley, CA                    13\n",
       "2213 4th Street, Berkeley, CA                    13\n",
       "1535 Oregon, Berkeley, CA                        11\n",
       "                                                 ..\n",
       "2039 Berkeley Way, Berkeley, CA                   1\n",
       "2639 McGee, Berkeley, CA                          1\n",
       "2714 McGee (corner of Delaware), Berkeley, CA     1\n",
       "2747 Haste, Berkeley, CA                          1\n",
       "2727 Garber, Berkeley, CA                         1\n",
       "Name: count, Length: 266, dtype: int64"
      ]
     },
     "execution_count": 9,
     "metadata": {},
     "output_type": "execute_result"
    }
   ],
   "source": [
    "df.value_counts('Address')"
   ]
  },
  {
   "cell_type": "markdown",
   "id": "83da979c",
   "metadata": {},
   "source": [
    "21 people at 2076 Ashby."
   ]
  },
  {
   "cell_type": "code",
   "execution_count": 10,
   "id": "fce711a9",
   "metadata": {},
   "outputs": [
    {
     "data": {
      "text/plain": [
       "Address\n",
       "False    1131\n",
       "True       20\n",
       "Name: count, dtype: int64"
      ]
     },
     "execution_count": 10,
     "metadata": {},
     "output_type": "execute_result"
    }
   ],
   "source": [
    "df['Address'].isnull().value_counts()"
   ]
  },
  {
   "cell_type": "markdown",
   "id": "d46f14d3",
   "metadata": {},
   "source": [
    "20 null address values."
   ]
  },
  {
   "cell_type": "markdown",
   "id": "a855c2c8",
   "metadata": {},
   "source": [
    "### Next... Geocoding these addresses!"
   ]
  },
  {
   "cell_type": "code",
   "execution_count": 13,
   "id": "f4f1981d",
   "metadata": {},
   "outputs": [],
   "source": [
    "import geocoder\n",
    "import os\n",
    "import time\n",
    "from dotenv import load_dotenv"
   ]
  },
  {
   "cell_type": "code",
   "execution_count": 12,
   "id": "dc1dab7f",
   "metadata": {},
   "outputs": [],
   "source": [
    "load_dotenv()\n",
    "\n",
    "api_key = os.getenv(\"api_key\")"
   ]
  },
  {
   "cell_type": "code",
   "execution_count": 14,
   "id": "76d451bf",
   "metadata": {},
   "outputs": [],
   "source": [
    "# A function to get the latitude and longitude\n",
    "def get_lat_lng(address):\n",
    "    try:\n",
    "        g = geocoder.google(address, key=api_key)\n",
    "        if g.ok:\n",
    "            return g.latlng \n",
    "        else:\n",
    "            return [None, None]\n",
    "    except Exception as e:\n",
    "        print(f\"Error geocoding {address}: {e}\")\n",
    "        return [None, None]"
   ]
  },
  {
   "cell_type": "code",
   "execution_count": 16,
   "id": "a0512cf3",
   "metadata": {},
   "outputs": [
    {
     "data": {
      "text/html": [
       "<div>\n",
       "<style scoped>\n",
       "    .dataframe tbody tr th:only-of-type {\n",
       "        vertical-align: middle;\n",
       "    }\n",
       "\n",
       "    .dataframe tbody tr th {\n",
       "        vertical-align: top;\n",
       "    }\n",
       "\n",
       "    .dataframe thead th {\n",
       "        text-align: right;\n",
       "    }\n",
       "</style>\n",
       "<table border=\"1\" class=\"dataframe\">\n",
       "  <thead>\n",
       "    <tr style=\"text-align: right;\">\n",
       "      <th></th>\n",
       "      <th>Last</th>\n",
       "      <th>First</th>\n",
       "      <th>Middle</th>\n",
       "      <th>Full Name</th>\n",
       "      <th>Address</th>\n",
       "      <th>Born</th>\n",
       "      <th>Imprisoned</th>\n",
       "      <th>Assembly Center and Camp</th>\n",
       "      <th>Release Date</th>\n",
       "      <th>Release Destination</th>\n",
       "      <th>Occupation</th>\n",
       "      <th>Notes</th>\n",
       "      <th>Latitude</th>\n",
       "      <th>Longitude</th>\n",
       "    </tr>\n",
       "  </thead>\n",
       "  <tbody>\n",
       "    <tr>\n",
       "      <th>0</th>\n",
       "      <td>(Akiyoshi)</td>\n",
       "      <td>Roy</td>\n",
       "      <td>Jitsuzo</td>\n",
       "      <td>Roy Jitsuzo (Akiyoshi)</td>\n",
       "      <td>1610 Julia, Berkeley, CA</td>\n",
       "      <td>1886, Japan</td>\n",
       "      <td>April 1942</td>\n",
       "      <td>Tanforan, Topaz</td>\n",
       "      <td>October 19, 1945</td>\n",
       "      <td>Oakland</td>\n",
       "      <td>Gardener</td>\n",
       "      <td>NaN</td>\n",
       "      <td>37.854333</td>\n",
       "      <td>-122.276471</td>\n",
       "    </tr>\n",
       "    <tr>\n",
       "      <th>1</th>\n",
       "      <td>(Akiyoshi)</td>\n",
       "      <td>Miwa</td>\n",
       "      <td>Jitsuzo</td>\n",
       "      <td>Miwa Jitsuzo (Akiyoshi)</td>\n",
       "      <td>1610 Julia, Berkeley, CA</td>\n",
       "      <td>1901, Japan</td>\n",
       "      <td>April 1942</td>\n",
       "      <td>Tanforan, Topaz</td>\n",
       "      <td>October 19, 1945</td>\n",
       "      <td>Oakland</td>\n",
       "      <td>Maid</td>\n",
       "      <td>NaN</td>\n",
       "      <td>37.854333</td>\n",
       "      <td>-122.276471</td>\n",
       "    </tr>\n",
       "    <tr>\n",
       "      <th>2</th>\n",
       "      <td>(Akiyoshi)</td>\n",
       "      <td>Minoru</td>\n",
       "      <td>Jitsuzo</td>\n",
       "      <td>Minoru Jitsuzo (Akiyoshi)</td>\n",
       "      <td>1610 Julia, Berkeley, CA</td>\n",
       "      <td>1925, California</td>\n",
       "      <td>April 1942</td>\n",
       "      <td>Tanforan, Topaz</td>\n",
       "      <td>July 5, 1945</td>\n",
       "      <td>New York City</td>\n",
       "      <td>NaN</td>\n",
       "      <td>NaN</td>\n",
       "      <td>37.854333</td>\n",
       "      <td>-122.276471</td>\n",
       "    </tr>\n",
       "    <tr>\n",
       "      <th>3</th>\n",
       "      <td>(Akiyoshi)</td>\n",
       "      <td>Shizuye</td>\n",
       "      <td>Jitsuzo</td>\n",
       "      <td>Shizuye Jitsuzo (Akiyoshi)</td>\n",
       "      <td>1610 Julia, Berkeley, CA</td>\n",
       "      <td>1923, California</td>\n",
       "      <td>April 1942</td>\n",
       "      <td>Tanforan, Topaz</td>\n",
       "      <td>August 6, 1945</td>\n",
       "      <td>Chicago, Illinois</td>\n",
       "      <td>NaN</td>\n",
       "      <td>NaN</td>\n",
       "      <td>37.854333</td>\n",
       "      <td>-122.276471</td>\n",
       "    </tr>\n",
       "    <tr>\n",
       "      <th>4</th>\n",
       "      <td>(Suzuki)</td>\n",
       "      <td>Fumiko</td>\n",
       "      <td>Hamada</td>\n",
       "      <td>Fumiko Hamada (Suzuki)</td>\n",
       "      <td>2115 Parker, Berkeley, CA</td>\n",
       "      <td>1923, Mexico</td>\n",
       "      <td>April 1942</td>\n",
       "      <td>Tanforan, Topaz</td>\n",
       "      <td>August 14, 1944</td>\n",
       "      <td>Milwaukee</td>\n",
       "      <td>NaN</td>\n",
       "      <td>NaN</td>\n",
       "      <td>37.862476</td>\n",
       "      <td>-122.266321</td>\n",
       "    </tr>\n",
       "  </tbody>\n",
       "</table>\n",
       "</div>"
      ],
      "text/plain": [
       "         Last    First   Middle                   Full Name  \\\n",
       "0  (Akiyoshi)      Roy  Jitsuzo      Roy Jitsuzo (Akiyoshi)   \n",
       "1  (Akiyoshi)     Miwa  Jitsuzo     Miwa Jitsuzo (Akiyoshi)   \n",
       "2  (Akiyoshi)   Minoru  Jitsuzo   Minoru Jitsuzo (Akiyoshi)   \n",
       "3  (Akiyoshi)  Shizuye  Jitsuzo  Shizuye Jitsuzo (Akiyoshi)   \n",
       "4    (Suzuki)   Fumiko   Hamada      Fumiko Hamada (Suzuki)   \n",
       "\n",
       "                     Address              Born  Imprisoned  \\\n",
       "0   1610 Julia, Berkeley, CA       1886, Japan  April 1942   \n",
       "1   1610 Julia, Berkeley, CA       1901, Japan  April 1942   \n",
       "2   1610 Julia, Berkeley, CA  1925, California  April 1942   \n",
       "3   1610 Julia, Berkeley, CA  1923, California  April 1942   \n",
       "4  2115 Parker, Berkeley, CA      1923, Mexico  April 1942   \n",
       "\n",
       "  Assembly Center and Camp      Release Date Release Destination Occupation  \\\n",
       "0          Tanforan, Topaz  October 19, 1945             Oakland   Gardener   \n",
       "1          Tanforan, Topaz  October 19, 1945             Oakland       Maid   \n",
       "2          Tanforan, Topaz      July 5, 1945       New York City        NaN   \n",
       "3          Tanforan, Topaz    August 6, 1945   Chicago, Illinois        NaN   \n",
       "4          Tanforan, Topaz   August 14, 1944           Milwaukee        NaN   \n",
       "\n",
       "  Notes   Latitude   Longitude  \n",
       "0   NaN  37.854333 -122.276471  \n",
       "1   NaN  37.854333 -122.276471  \n",
       "2   NaN  37.854333 -122.276471  \n",
       "3   NaN  37.854333 -122.276471  \n",
       "4   NaN  37.862476 -122.266321  "
      ]
     },
     "execution_count": 16,
     "metadata": {},
     "output_type": "execute_result"
    }
   ],
   "source": [
    "latitudes = []\n",
    "longitudes = []\n",
    "\n",
    "for address in df['Address']:\n",
    "    latlng = get_lat_lng(address)\n",
    "    latitudes.append(latlng[0])\n",
    "    longitudes.append(latlng[1])\n",
    "    time.sleep(0.2)  # in case of API limits\n",
    "\n",
    "# Add to the DataFrame\n",
    "df['Latitude'] = latitudes\n",
    "df['Longitude'] = longitudes\n",
    "\n",
    "# Output the results\n",
    "df.head()"
   ]
  },
  {
   "cell_type": "markdown",
   "id": "b6408831",
   "metadata": {},
   "source": [
    "Great! Now I'll download this goecoded dataframe."
   ]
  },
  {
   "cell_type": "code",
   "execution_count": 17,
   "id": "15b26a07",
   "metadata": {},
   "outputs": [],
   "source": [
    "df.to_csv(\"geocoded_here_lived.csv\", index=False)"
   ]
  },
  {
   "cell_type": "markdown",
   "id": "b0e45d93",
   "metadata": {},
   "source": [
    "For now, this might be all we need for the mapping part of this project...\n",
    "\n",
    "The analysis of dates and occupation categories can come later."
   ]
  },
  {
   "cell_type": "markdown",
   "id": "c3619dd2",
   "metadata": {},
   "source": [
    "Mapping the camps (and sizes) and the release destinations could also come later."
   ]
  },
  {
   "cell_type": "code",
   "execution_count": null,
   "id": "43e6405a",
   "metadata": {},
   "outputs": [],
   "source": []
  }
 ],
 "metadata": {
  "kernelspec": {
   "display_name": "3.12.10",
   "language": "python",
   "name": "python3"
  },
  "language_info": {
   "codemirror_mode": {
    "name": "ipython",
    "version": 3
   },
   "file_extension": ".py",
   "mimetype": "text/x-python",
   "name": "python",
   "nbconvert_exporter": "python",
   "pygments_lexer": "ipython3",
   "version": "3.12.10"
  }
 },
 "nbformat": 4,
 "nbformat_minor": 5
}
